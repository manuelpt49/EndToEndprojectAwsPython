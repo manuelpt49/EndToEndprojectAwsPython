{
 "cells": [
  {
   "cell_type": "code",
   "execution_count": null,
   "metadata": {},
   "outputs": [],
   "source": [
    "import sys\n",
    "import logging\n",
    "import redshift_connector\n",
    "\n",
    "conn = redshift_connector.connect(\n",
    "    host='HOST',\n",
    "    port=5439,\n",
    "    database='dev',\n",
    "    user='USER',\n",
    "    password='PASS'\n",
    ")\n",
    "conn.autocommit = True\n",
    "cursor = redshift_connector.Cursor = conn.cursor()\n",
    "\n",
    "#Set S3 path of the file and the IAM between S3 and redshift\n",
    "cursor.execute(\"\"\"copy dimHospital from 's3://S3Route'\n",
    "               credentials 'aws_iam_role=arn:'\n",
    "               delimiter ','\n",
    "               region 'us-east-2'\n",
    "               IGNOREHEADER 1;\n",
    "\"\"\")\n",
    "\n",
    "cursor.execute(\"\"\"copy dimRegion from 's3://S3Rout'\n",
    "               credentials 'aws_iam_role=arn:'\n",
    "               delimiter ','\n",
    "               region 'us-east-2'\n",
    "               IGNOREHEADER 1;\n",
    "\"\"\")\n",
    "\n",
    "cursor.execute(\"\"\"copy factCovid from 's3://S3Rout'\n",
    "               credentials 'aws_iam_role=arn:'\n",
    "               delimiter ','\n",
    "               region 'us-east-2'\n",
    "               IGNOREHEADER 1;\n",
    "\"\"\")"
   ]
  }
 ],
 "metadata": {
  "language_info": {
   "name": "python"
  },
  "orig_nbformat": 4
 },
 "nbformat": 4,
 "nbformat_minor": 2
}
